{
 "cells": [
  {
   "cell_type": "markdown",
   "id": "c02bee3f",
   "metadata": {},
   "source": [
    "# Tarea Diágnóstico gitflow "
   ]
  },
  {
   "cell_type": "markdown",
   "id": "a1c1fc91",
   "metadata": {},
   "source": [
    "**María Prieto Hurtado**\n",
    "\n",
    "**Sección 2**"
   ]
  },
  {
   "cell_type": "markdown",
   "id": "b75deb5a",
   "metadata": {},
   "source": [
    "## Primero limpiamos los datos"
   ]
  },
  {
   "cell_type": "code",
   "execution_count": 1,
   "id": "37eb0204",
   "metadata": {},
   "outputs": [],
   "source": [
    "import pandas as pd\n",
    "import json"
   ]
  },
  {
   "cell_type": "code",
   "execution_count": 2,
   "id": "4a624528",
   "metadata": {},
   "outputs": [],
   "source": [
    "with open('farmers-protest-tweets-2021-03-5.json', 'r', encoding='utf-8') as file:\n",
    "    dict_twitter = [json.loads(dict_file) for dict_file in file]"
   ]
  },
  {
   "cell_type": "code",
   "execution_count": 3,
   "id": "09a46786",
   "metadata": {},
   "outputs": [
    {
     "name": "stdout",
     "output_type": "stream",
     "text": [
      "{'url': 'https://twitter.com/ShashiRajbhar6/status/1376739399593910273', 'date': '2021-03-30T03:33:46+00:00', 'content': 'Support 👇\\n\\n#FarmersProtest', 'renderedContent': 'Support 👇\\n\\n#FarmersProtest', 'id': 1376739399593910273, 'user': {'username': 'ShashiRajbhar6', 'displayname': 'Shashi Rajbhar', 'id': 1015969769760096256, 'description': \"Satya presan 🤔ho Sakta but prajit💪 nhi\\njhuth se samjhauta kbhi nhi\\nJai Shree Ram 🕉 🙏🕉 followed by hon'ble @ArunrajbharSbsp\", 'rawDescription': \"Satya presan 🤔ho Sakta but prajit💪 nhi\\njhuth se samjhauta kbhi nhi\\nJai Shree Ram 🕉 🙏🕉 followed by hon'ble @ArunrajbharSbsp\", 'descriptionUrls': [], 'verified': False, 'created': '2018-07-08T14:44:03+00:00', 'followersCount': 1788, 'friendsCount': 1576, 'statusesCount': 14396, 'favouritesCount': 26071, 'listedCount': 1, 'mediaCount': 254, 'location': 'Azm Uttar Pradesh, India', 'protected': False, 'linkUrl': None, 'linkTcourl': None, 'profileImageUrl': 'https://pbs.twimg.com/profile_images/1354331299868237825/eDzdhZTD_normal.jpg', 'profileBannerUrl': 'https://pbs.twimg.com/profile_banners/1015969769760096256/1613727783', 'url': 'https://twitter.com/ShashiRajbhar6'}, 'outlinks': [], 'tcooutlinks': [], 'replyCount': 0, 'retweetCount': 0, 'likeCount': 0, 'quoteCount': 0, 'conversationId': 1376739399593910273, 'lang': 'en', 'source': '<a href=\"http://twitter.com/download/android\" rel=\"nofollow\">Twitter for Android</a>', 'sourceUrl': 'http://twitter.com/download/android', 'sourceLabel': 'Twitter for Android', 'media': None, 'retweetedTweet': None, 'quotedTweet': None, 'mentionedUsers': None}\n"
     ]
    }
   ],
   "source": [
    "print(dict_twitter[0])"
   ]
  },
  {
   "cell_type": "code",
   "execution_count": 4,
   "id": "fd520b47",
   "metadata": {},
   "outputs": [],
   "source": [
    "clean_twitter = [[d['id'], d['content'], d['renderedContent'], d['retweetCount'], d['user'], d['date']] for d in dict_twitter]"
   ]
  },
  {
   "cell_type": "code",
   "execution_count": 5,
   "id": "79a2aef2",
   "metadata": {},
   "outputs": [],
   "source": [
    "df_twitter = pd.DataFrame(clean_twitter)"
   ]
  },
  {
   "cell_type": "code",
   "execution_count": 6,
   "id": "b1996f09",
   "metadata": {},
   "outputs": [
    {
     "data": {
      "text/html": [
       "<div>\n",
       "<style scoped>\n",
       "    .dataframe tbody tr th:only-of-type {\n",
       "        vertical-align: middle;\n",
       "    }\n",
       "\n",
       "    .dataframe tbody tr th {\n",
       "        vertical-align: top;\n",
       "    }\n",
       "\n",
       "    .dataframe thead th {\n",
       "        text-align: right;\n",
       "    }\n",
       "</style>\n",
       "<table border=\"1\" class=\"dataframe\">\n",
       "  <thead>\n",
       "    <tr style=\"text-align: right;\">\n",
       "      <th></th>\n",
       "      <th>0</th>\n",
       "      <th>1</th>\n",
       "      <th>2</th>\n",
       "      <th>3</th>\n",
       "      <th>4</th>\n",
       "      <th>5</th>\n",
       "    </tr>\n",
       "  </thead>\n",
       "  <tbody>\n",
       "    <tr>\n",
       "      <th>0</th>\n",
       "      <td>1376739399593910273</td>\n",
       "      <td>Support 👇\\n\\n#FarmersProtest</td>\n",
       "      <td>Support 👇\\n\\n#FarmersProtest</td>\n",
       "      <td>0</td>\n",
       "      <td>{'username': 'ShashiRajbhar6', 'displayname': ...</td>\n",
       "      <td>2021-03-30T03:33:46+00:00</td>\n",
       "    </tr>\n",
       "    <tr>\n",
       "      <th>1</th>\n",
       "      <td>1376739306287427584</td>\n",
       "      <td>Supporting farmers means supporting our countr...</td>\n",
       "      <td>Supporting farmers means supporting our countr...</td>\n",
       "      <td>0</td>\n",
       "      <td>{'username': 'kaursuk06272818', 'displayname':...</td>\n",
       "      <td>2021-03-30T03:33:23+00:00</td>\n",
       "    </tr>\n",
       "    <tr>\n",
       "      <th>2</th>\n",
       "      <td>1376738704128020488</td>\n",
       "      <td>Support farmers if you are related to food #St...</td>\n",
       "      <td>Support farmers if you are related to food #St...</td>\n",
       "      <td>0</td>\n",
       "      <td>{'username': 'kaursuk06272818', 'displayname':...</td>\n",
       "      <td>2021-03-30T03:31:00+00:00</td>\n",
       "    </tr>\n",
       "    <tr>\n",
       "      <th>3</th>\n",
       "      <td>1376738640542400518</td>\n",
       "      <td>#StopHateAgainstFarmers support #FarmersProtes...</td>\n",
       "      <td>#StopHateAgainstFarmers support #FarmersProtes...</td>\n",
       "      <td>1</td>\n",
       "      <td>{'username': 'SukhdevSingh_', 'displayname': '...</td>\n",
       "      <td>2021-03-30T03:30:45+00:00</td>\n",
       "    </tr>\n",
       "    <tr>\n",
       "      <th>4</th>\n",
       "      <td>1376738579171344386</td>\n",
       "      <td>You hate farmers I hate you, \\nif you love the...</td>\n",
       "      <td>You hate farmers I hate you, \\nif you love the...</td>\n",
       "      <td>0</td>\n",
       "      <td>{'username': 'Davidmu66668113', 'displayname':...</td>\n",
       "      <td>2021-03-30T03:30:30+00:00</td>\n",
       "    </tr>\n",
       "  </tbody>\n",
       "</table>\n",
       "</div>"
      ],
      "text/plain": [
       "                     0                                                  1  \\\n",
       "0  1376739399593910273                       Support 👇\\n\\n#FarmersProtest   \n",
       "1  1376739306287427584  Supporting farmers means supporting our countr...   \n",
       "2  1376738704128020488  Support farmers if you are related to food #St...   \n",
       "3  1376738640542400518  #StopHateAgainstFarmers support #FarmersProtes...   \n",
       "4  1376738579171344386  You hate farmers I hate you, \\nif you love the...   \n",
       "\n",
       "                                                   2  3  \\\n",
       "0                       Support 👇\\n\\n#FarmersProtest  0   \n",
       "1  Supporting farmers means supporting our countr...  0   \n",
       "2  Support farmers if you are related to food #St...  0   \n",
       "3  #StopHateAgainstFarmers support #FarmersProtes...  1   \n",
       "4  You hate farmers I hate you, \\nif you love the...  0   \n",
       "\n",
       "                                                   4  \\\n",
       "0  {'username': 'ShashiRajbhar6', 'displayname': ...   \n",
       "1  {'username': 'kaursuk06272818', 'displayname':...   \n",
       "2  {'username': 'kaursuk06272818', 'displayname':...   \n",
       "3  {'username': 'SukhdevSingh_', 'displayname': '...   \n",
       "4  {'username': 'Davidmu66668113', 'displayname':...   \n",
       "\n",
       "                           5  \n",
       "0  2021-03-30T03:33:46+00:00  \n",
       "1  2021-03-30T03:33:23+00:00  \n",
       "2  2021-03-30T03:31:00+00:00  \n",
       "3  2021-03-30T03:30:45+00:00  \n",
       "4  2021-03-30T03:30:30+00:00  "
      ]
     },
     "execution_count": 6,
     "metadata": {},
     "output_type": "execute_result"
    }
   ],
   "source": [
    "df_twitter.head()"
   ]
  },
  {
   "cell_type": "code",
   "execution_count": 7,
   "id": "4ef1230d",
   "metadata": {},
   "outputs": [
    {
     "data": {
      "text/html": [
       "<div>\n",
       "<style scoped>\n",
       "    .dataframe tbody tr th:only-of-type {\n",
       "        vertical-align: middle;\n",
       "    }\n",
       "\n",
       "    .dataframe tbody tr th {\n",
       "        vertical-align: top;\n",
       "    }\n",
       "\n",
       "    .dataframe thead th {\n",
       "        text-align: right;\n",
       "    }\n",
       "</style>\n",
       "<table border=\"1\" class=\"dataframe\">\n",
       "  <thead>\n",
       "    <tr style=\"text-align: right;\">\n",
       "      <th></th>\n",
       "      <th>id</th>\n",
       "      <th>content</th>\n",
       "      <th>renderedContent</th>\n",
       "      <th>retweetCount</th>\n",
       "      <th>user</th>\n",
       "      <th>date</th>\n",
       "    </tr>\n",
       "  </thead>\n",
       "  <tbody>\n",
       "    <tr>\n",
       "      <th>0</th>\n",
       "      <td>1376739399593910273</td>\n",
       "      <td>Support 👇\\n\\n#FarmersProtest</td>\n",
       "      <td>Support 👇\\n\\n#FarmersProtest</td>\n",
       "      <td>0</td>\n",
       "      <td>{'username': 'ShashiRajbhar6', 'displayname': ...</td>\n",
       "      <td>2021-03-30T03:33:46+00:00</td>\n",
       "    </tr>\n",
       "    <tr>\n",
       "      <th>1</th>\n",
       "      <td>1376739306287427584</td>\n",
       "      <td>Supporting farmers means supporting our countr...</td>\n",
       "      <td>Supporting farmers means supporting our countr...</td>\n",
       "      <td>0</td>\n",
       "      <td>{'username': 'kaursuk06272818', 'displayname':...</td>\n",
       "      <td>2021-03-30T03:33:23+00:00</td>\n",
       "    </tr>\n",
       "    <tr>\n",
       "      <th>2</th>\n",
       "      <td>1376738704128020488</td>\n",
       "      <td>Support farmers if you are related to food #St...</td>\n",
       "      <td>Support farmers if you are related to food #St...</td>\n",
       "      <td>0</td>\n",
       "      <td>{'username': 'kaursuk06272818', 'displayname':...</td>\n",
       "      <td>2021-03-30T03:31:00+00:00</td>\n",
       "    </tr>\n",
       "    <tr>\n",
       "      <th>3</th>\n",
       "      <td>1376738640542400518</td>\n",
       "      <td>#StopHateAgainstFarmers support #FarmersProtes...</td>\n",
       "      <td>#StopHateAgainstFarmers support #FarmersProtes...</td>\n",
       "      <td>1</td>\n",
       "      <td>{'username': 'SukhdevSingh_', 'displayname': '...</td>\n",
       "      <td>2021-03-30T03:30:45+00:00</td>\n",
       "    </tr>\n",
       "    <tr>\n",
       "      <th>4</th>\n",
       "      <td>1376738579171344386</td>\n",
       "      <td>You hate farmers I hate you, \\nif you love the...</td>\n",
       "      <td>You hate farmers I hate you, \\nif you love the...</td>\n",
       "      <td>0</td>\n",
       "      <td>{'username': 'Davidmu66668113', 'displayname':...</td>\n",
       "      <td>2021-03-30T03:30:30+00:00</td>\n",
       "    </tr>\n",
       "  </tbody>\n",
       "</table>\n",
       "</div>"
      ],
      "text/plain": [
       "                    id                                            content  \\\n",
       "0  1376739399593910273                       Support 👇\\n\\n#FarmersProtest   \n",
       "1  1376739306287427584  Supporting farmers means supporting our countr...   \n",
       "2  1376738704128020488  Support farmers if you are related to food #St...   \n",
       "3  1376738640542400518  #StopHateAgainstFarmers support #FarmersProtes...   \n",
       "4  1376738579171344386  You hate farmers I hate you, \\nif you love the...   \n",
       "\n",
       "                                     renderedContent  retweetCount  \\\n",
       "0                       Support 👇\\n\\n#FarmersProtest             0   \n",
       "1  Supporting farmers means supporting our countr...             0   \n",
       "2  Support farmers if you are related to food #St...             0   \n",
       "3  #StopHateAgainstFarmers support #FarmersProtes...             1   \n",
       "4  You hate farmers I hate you, \\nif you love the...             0   \n",
       "\n",
       "                                                user  \\\n",
       "0  {'username': 'ShashiRajbhar6', 'displayname': ...   \n",
       "1  {'username': 'kaursuk06272818', 'displayname':...   \n",
       "2  {'username': 'kaursuk06272818', 'displayname':...   \n",
       "3  {'username': 'SukhdevSingh_', 'displayname': '...   \n",
       "4  {'username': 'Davidmu66668113', 'displayname':...   \n",
       "\n",
       "                        date  \n",
       "0  2021-03-30T03:33:46+00:00  \n",
       "1  2021-03-30T03:33:23+00:00  \n",
       "2  2021-03-30T03:31:00+00:00  \n",
       "3  2021-03-30T03:30:45+00:00  \n",
       "4  2021-03-30T03:30:30+00:00  "
      ]
     },
     "execution_count": 7,
     "metadata": {},
     "output_type": "execute_result"
    }
   ],
   "source": [
    "df_twitter.columns = ['id', 'content', 'renderedContent', 'retweetCount', 'user', 'date']\n",
    "df_twitter.head()"
   ]
  },
  {
   "cell_type": "code",
   "execution_count": 8,
   "id": "86a8b995",
   "metadata": {},
   "outputs": [],
   "source": [
    "def clean_date(date):\n",
    "    return date[:10]"
   ]
  },
  {
   "cell_type": "code",
   "execution_count": 9,
   "id": "02e32ce2",
   "metadata": {},
   "outputs": [
    {
     "data": {
      "text/html": [
       "<div>\n",
       "<style scoped>\n",
       "    .dataframe tbody tr th:only-of-type {\n",
       "        vertical-align: middle;\n",
       "    }\n",
       "\n",
       "    .dataframe tbody tr th {\n",
       "        vertical-align: top;\n",
       "    }\n",
       "\n",
       "    .dataframe thead th {\n",
       "        text-align: right;\n",
       "    }\n",
       "</style>\n",
       "<table border=\"1\" class=\"dataframe\">\n",
       "  <thead>\n",
       "    <tr style=\"text-align: right;\">\n",
       "      <th></th>\n",
       "      <th>id</th>\n",
       "      <th>content</th>\n",
       "      <th>renderedContent</th>\n",
       "      <th>retweetCount</th>\n",
       "      <th>user</th>\n",
       "      <th>date</th>\n",
       "    </tr>\n",
       "  </thead>\n",
       "  <tbody>\n",
       "    <tr>\n",
       "      <th>0</th>\n",
       "      <td>1376739399593910273</td>\n",
       "      <td>Support 👇\\n\\n#FarmersProtest</td>\n",
       "      <td>Support 👇\\n\\n#FarmersProtest</td>\n",
       "      <td>0</td>\n",
       "      <td>{'username': 'ShashiRajbhar6', 'displayname': ...</td>\n",
       "      <td>2021-03-30</td>\n",
       "    </tr>\n",
       "    <tr>\n",
       "      <th>1</th>\n",
       "      <td>1376739306287427584</td>\n",
       "      <td>Supporting farmers means supporting our countr...</td>\n",
       "      <td>Supporting farmers means supporting our countr...</td>\n",
       "      <td>0</td>\n",
       "      <td>{'username': 'kaursuk06272818', 'displayname':...</td>\n",
       "      <td>2021-03-30</td>\n",
       "    </tr>\n",
       "    <tr>\n",
       "      <th>2</th>\n",
       "      <td>1376738704128020488</td>\n",
       "      <td>Support farmers if you are related to food #St...</td>\n",
       "      <td>Support farmers if you are related to food #St...</td>\n",
       "      <td>0</td>\n",
       "      <td>{'username': 'kaursuk06272818', 'displayname':...</td>\n",
       "      <td>2021-03-30</td>\n",
       "    </tr>\n",
       "    <tr>\n",
       "      <th>3</th>\n",
       "      <td>1376738640542400518</td>\n",
       "      <td>#StopHateAgainstFarmers support #FarmersProtes...</td>\n",
       "      <td>#StopHateAgainstFarmers support #FarmersProtes...</td>\n",
       "      <td>1</td>\n",
       "      <td>{'username': 'SukhdevSingh_', 'displayname': '...</td>\n",
       "      <td>2021-03-30</td>\n",
       "    </tr>\n",
       "    <tr>\n",
       "      <th>4</th>\n",
       "      <td>1376738579171344386</td>\n",
       "      <td>You hate farmers I hate you, \\nif you love the...</td>\n",
       "      <td>You hate farmers I hate you, \\nif you love the...</td>\n",
       "      <td>0</td>\n",
       "      <td>{'username': 'Davidmu66668113', 'displayname':...</td>\n",
       "      <td>2021-03-30</td>\n",
       "    </tr>\n",
       "  </tbody>\n",
       "</table>\n",
       "</div>"
      ],
      "text/plain": [
       "                    id                                            content  \\\n",
       "0  1376739399593910273                       Support 👇\\n\\n#FarmersProtest   \n",
       "1  1376739306287427584  Supporting farmers means supporting our countr...   \n",
       "2  1376738704128020488  Support farmers if you are related to food #St...   \n",
       "3  1376738640542400518  #StopHateAgainstFarmers support #FarmersProtes...   \n",
       "4  1376738579171344386  You hate farmers I hate you, \\nif you love the...   \n",
       "\n",
       "                                     renderedContent  retweetCount  \\\n",
       "0                       Support 👇\\n\\n#FarmersProtest             0   \n",
       "1  Supporting farmers means supporting our countr...             0   \n",
       "2  Support farmers if you are related to food #St...             0   \n",
       "3  #StopHateAgainstFarmers support #FarmersProtes...             1   \n",
       "4  You hate farmers I hate you, \\nif you love the...             0   \n",
       "\n",
       "                                                user        date  \n",
       "0  {'username': 'ShashiRajbhar6', 'displayname': ...  2021-03-30  \n",
       "1  {'username': 'kaursuk06272818', 'displayname':...  2021-03-30  \n",
       "2  {'username': 'kaursuk06272818', 'displayname':...  2021-03-30  \n",
       "3  {'username': 'SukhdevSingh_', 'displayname': '...  2021-03-30  \n",
       "4  {'username': 'Davidmu66668113', 'displayname':...  2021-03-30  "
      ]
     },
     "execution_count": 9,
     "metadata": {},
     "output_type": "execute_result"
    }
   ],
   "source": [
    "df_twitter['date'] = df_twitter['date'].apply(clean_date)\n",
    "df_twitter.head()"
   ]
  },
  {
   "cell_type": "markdown",
   "id": "29244cc3",
   "metadata": {},
   "source": [
    "## Los top 10 tweet más retweeted"
   ]
  },
  {
   "cell_type": "code",
   "execution_count": 10,
   "id": "c5613369",
   "metadata": {},
   "outputs": [],
   "source": [
    "def top_retweed(df):\n",
    "    #finds the top 10 tweets more retweeted\n",
    "    df_top = df.nlargest(10, 'retweetCount')\n",
    "    tops = [df_top.content]\n",
    "    return tops"
   ]
  },
  {
   "cell_type": "markdown",
   "id": "05e7bddf",
   "metadata": {},
   "source": [
    "## Los top 10 usuarios en función a la cantidad de tweets que emitieron"
   ]
  },
  {
   "cell_type": "code",
   "execution_count": 21,
   "id": "c6719607",
   "metadata": {},
   "outputs": [],
   "source": [
    "from collections import Counter"
   ]
  },
  {
   "cell_type": "code",
   "execution_count": 23,
   "id": "657baeb9",
   "metadata": {},
   "outputs": [],
   "source": [
    "def top_users(df):\n",
    "    #finds the top 10 users by de number of tweets\n",
    "    users = [u['username'] for u in df['user']]\n",
    "    users_count = Counter(users)\n",
    "    tops_u = users_count.most_common(10)\n",
    "    return [username[0] for username in tops_u]"
   ]
  },
  {
   "cell_type": "markdown",
   "id": "412bb710",
   "metadata": {},
   "source": [
    "## Los top 10 días con más tweets"
   ]
  },
  {
   "cell_type": "code",
   "execution_count": 12,
   "id": "4f6dbd36",
   "metadata": {},
   "outputs": [],
   "source": [
    "def top_days(df):\n",
    "    #finds the top 10 dates with more tweets\n",
    "    #based from https://stackoverflow.com/questions/48590268/pandas-get-the-most-frequent-values-of-a-column\n",
    "    tops_days = df['date'].value_counts()[:10].index.tolist()\n",
    "    return tops_days"
   ]
  },
  {
   "cell_type": "markdown",
   "id": "f5efa378",
   "metadata": {},
   "source": [
    "## Los top 10 hashtags más usados"
   ]
  },
  {
   "cell_type": "code",
   "execution_count": 39,
   "id": "5fc27c7b",
   "metadata": {},
   "outputs": [],
   "source": [
    "def top_hashtags(df):\n",
    "    #finds the top 10 used hashtags\n",
    "    ht = []\n",
    "    for twitter in df['content']:\n",
    "        for word in twitter.split():\n",
    "            if word[0] == '#':\n",
    "                ht.append(word)\n",
    "    ht_count = Counter(ht)\n",
    "    tops_ht = ht_count.most_common(10)\n",
    "    return [hashtag[0] for hashtag in tops_ht]"
   ]
  },
  {
   "cell_type": "markdown",
   "id": "7bbb4a4d",
   "metadata": {},
   "source": [
    "## Función main"
   ]
  },
  {
   "cell_type": "code",
   "execution_count": 41,
   "id": "02a87314",
   "metadata": {},
   "outputs": [],
   "source": [
    "def main(df):\n",
    "    print(\"Top 10 tweets más retweeteados\\n\")\n",
    "    print(top_retweed(df))\n",
    "    print(\"\\n\")\n",
    "    print(\"Top 10 usuarios con más tweets\\n\")\n",
    "    print(top_users(df))\n",
    "    print(\"\\n\")\n",
    "    print(\"Top 10 días con más tweets\\n\")\n",
    "    print(top_days(df))\n",
    "    print(\"\\n\")\n",
    "    print(\"Top 10 hashtags usados\\n\")\n",
    "    print(top_hashtags(df))\n",
    "    print(\"\\n\")"
   ]
  },
  {
   "cell_type": "code",
   "execution_count": 42,
   "id": "e3cd0886",
   "metadata": {},
   "outputs": [
    {
     "name": "stdout",
     "output_type": "stream",
     "text": [
      "Top 10 tweets más retweeteados\n",
      "\n",
      "[408128    why aren’t we talking about this?! #FarmersPro...\n",
      "395142    We stand in solidarity with the #FarmersProtes...\n",
      "266196    I still #StandWithFarmers and support their pe...\n",
      "366579    “Paid actors,” huh? Quite the casting director...\n",
      "372793    What in the human rights violations is going o...\n",
      "314192    Happy to share that I’ve donated $10,000 to pr...\n",
      "215034    There has been much social media coverage arou...\n",
      "398011    Farmers feed the world. Fight for them. Protec...\n",
      "325261    Should be talking about this! #FarmersProtest\\...\n",
      "163689    To all of my influencer/celeb friends- read up...\n",
      "Name: content, dtype: object]\n",
      "\n",
      "\n",
      "Top 10 usuarios con más tweets\n",
      "\n",
      "['harjot_tweeting', 'tasveersandhu', 'shells_n_petals', 'jot__b', 'rebelpacifist', 'rumsomal', 'Iamjazzie96', 'Jass_k_G', 'DigitalKisanBot', 'z_khalique007']\n",
      "\n",
      "\n",
      "Top 10 días con más tweets\n",
      "\n",
      "['2021-02-03', '2021-02-04', '2021-02-05', '2021-02-02', '2021-02-06', '2021-02-07', '2021-02-09', '2021-02-08', '2021-02-10', '2021-02-11']\n",
      "\n",
      "\n",
      "Top 10 hashtags usados\n",
      "\n",
      "['#FarmersProtest', '#IStandWithFarmers', '#farmersprotest', '#IndianFarmersHumanRights', '#FarmersAreIndia', '#StandWithFarmers', '#Rihanna', '#FarmersProtests', '#Farmers', '#shameonbollywood']\n",
      "\n",
      "\n"
     ]
    }
   ],
   "source": [
    "main(df_twitter)"
   ]
  },
  {
   "cell_type": "code",
   "execution_count": null,
   "id": "288df557",
   "metadata": {},
   "outputs": [],
   "source": []
  }
 ],
 "metadata": {
  "kernelspec": {
   "display_name": "Python 3 (ipykernel)",
   "language": "python",
   "name": "python3"
  },
  "language_info": {
   "codemirror_mode": {
    "name": "ipython",
    "version": 3
   },
   "file_extension": ".py",
   "mimetype": "text/x-python",
   "name": "python",
   "nbconvert_exporter": "python",
   "pygments_lexer": "ipython3",
   "version": "3.9.5"
  }
 },
 "nbformat": 4,
 "nbformat_minor": 5
}
